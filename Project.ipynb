{
 "cells": [
  {
   "cell_type": "code",
   "execution_count": 1,
   "metadata": {},
   "outputs": [],
   "source": [
    "import os\n",
    "import numpy as np\n",
    "from music21 import converter, instrument, note, chord, stream\n",
    "from keras.models import Sequential, load_model\n",
    "from keras.layers import LSTM, Dense, Dropout\n",
    "from keras.utils import to_categorical\n",
    "from keras.callbacks import TensorBoard\n"
   ]
  },
  {
   "cell_type": "code",
   "execution_count": 47,
   "metadata": {},
   "outputs": [],
   "source": [
    "# Función para procesar los archivos MIDI\n",
    "def get_notes():\n",
    "    notes = []\n",
    "    for file in os.listdir('songs'):\n",
    "        if file.endswith(\".mid\"):\n",
    "            midi = converter.parse(os.path.join('songs', file))\n",
    "            notes_to_parse = None\n",
    "            try:\n",
    "                s2 = instrument.partitionByInstrument(midi)\n",
    "                notes_to_parse = s2.parts[0].recurse()\n",
    "            except:\n",
    "                notes_to_parse = midi.flat.notes\n",
    "            \n",
    "            for element in notes_to_parse:\n",
    "                if isinstance(element, note.Note):\n",
    "                    notes.append(str(element.pitch))\n",
    "                elif isinstance(element, chord.Chord):\n",
    "                    notes.append('.'.join(str(n) for n in element.normalOrder))\n",
    "    \n",
    "    return notes\n"
   ]
  },
  {
   "cell_type": "markdown",
   "metadata": {},
   "source": [
    "## Preprocessing\n",
    "\n",
    "Se obtienen las notas de los archivos midi para obtener el vocabulario, el output e input del network"
   ]
  },
  {
   "cell_type": "code",
   "execution_count": 48,
   "metadata": {},
   "outputs": [],
   "source": [
    "# Preprocesamiento\n",
    "notes = get_notes()\n",
    "n_vocab = len(set(notes))\n",
    "note_to_int = dict((note, number) for number, note in enumerate(set(notes)))\n",
    "\n",
    "sequence_length = 100\n",
    "network_input = []\n",
    "network_output = []\n",
    "\n",
    "for i in range(0, len(notes) - sequence_length, 1):\n",
    "    sequence_in = notes[i:i + sequence_length]\n",
    "    sequence_out = notes[i + sequence_length]\n",
    "    network_input.append([note_to_int[char] for char in sequence_in])\n",
    "    network_output.append(note_to_int[sequence_out])\n",
    "\n",
    "n_patterns = len(network_input)\n",
    "network_input = np.reshape(network_input, (n_patterns, sequence_length, 1))\n",
    "network_input = network_input / float(n_vocab)\n",
    "network_output = to_categorical(network_output)\n"
   ]
  },
  {
   "cell_type": "markdown",
   "metadata": {},
   "source": [
    "## Creación del modelo\n",
    "\n",
    "Se le agregan las capas al modelo"
   ]
  },
  {
   "cell_type": "code",
   "execution_count": 55,
   "metadata": {},
   "outputs": [],
   "source": [
    "# Creación del modelo\n",
    "model = Sequential()\n",
    "model.add(LSTM(256, input_shape=(network_input.shape[1], network_input.shape[2]), return_sequences=True))\n",
    "model.add(Dropout(0.3))\n",
    "model.add(LSTM(512, return_sequences=True))\n",
    "model.add(Dropout(0.3))\n",
    "model.add(LSTM(256))\n",
    "model.add(Dense(256))\n",
    "model.add(Dropout(0.3))\n",
    "model.add(Dense(n_vocab, activation='softmax'))\n",
    "model.compile(loss='categorical_crossentropy', optimizer='rmsprop')\n"
   ]
  },
  {
   "cell_type": "markdown",
   "metadata": {},
   "source": [
    "## Initial Loss"
   ]
  },
  {
   "cell_type": "code",
   "execution_count": 52,
   "metadata": {},
   "outputs": [
    {
     "name": "stdout",
     "output_type": "stream",
     "text": [
      "Evaluating initial model performance...\n",
      "\u001b[1m232/232\u001b[0m \u001b[32m━━━━━━━━━━━━━━━━━━━━\u001b[0m\u001b[37m\u001b[0m \u001b[1m52s\u001b[0m 222ms/step - loss: 5.1588\n",
      "Initial loss: 5.159389972686768\n"
     ]
    }
   ],
   "source": [
    "print(\"Evaluating initial model performance...\")\n",
    "initial_loss = model.evaluate(network_input, network_output, verbose=1)\n",
    "print(f\"Initial loss: {initial_loss}\")\n"
   ]
  },
  {
   "cell_type": "code",
   "execution_count": 53,
   "metadata": {},
   "outputs": [],
   "source": [
    "tensorboard = TensorBoard(log_dir='logs', histogram_freq=1, write_graph=True, write_images=True)"
   ]
  },
  {
   "cell_type": "markdown",
   "metadata": {},
   "source": [
    "## Entrenar el modelo"
   ]
  },
  {
   "cell_type": "code",
   "execution_count": 65,
   "metadata": {},
   "outputs": [
    {
     "name": "stdout",
     "output_type": "stream",
     "text": [
      "Epoch 1/7\n",
      "\u001b[1m116/116\u001b[0m \u001b[32m━━━━━━━━━━━━━━━━━━━━\u001b[0m\u001b[37m\u001b[0m \u001b[1m160s\u001b[0m 1s/step - loss: 4.3696\n",
      "Epoch 2/7\n",
      "\u001b[1m116/116\u001b[0m \u001b[32m━━━━━━━━━━━━━━━━━━━━\u001b[0m\u001b[37m\u001b[0m \u001b[1m162s\u001b[0m 1s/step - loss: 4.2016\n",
      "Epoch 3/7\n",
      "\u001b[1m116/116\u001b[0m \u001b[32m━━━━━━━━━━━━━━━━━━━━\u001b[0m\u001b[37m\u001b[0m \u001b[1m160s\u001b[0m 1s/step - loss: 4.1696\n",
      "Epoch 4/7\n",
      "\u001b[1m116/116\u001b[0m \u001b[32m━━━━━━━━━━━━━━━━━━━━\u001b[0m\u001b[37m\u001b[0m \u001b[1m161s\u001b[0m 1s/step - loss: 4.0569\n",
      "Epoch 5/7\n",
      "\u001b[1m116/116\u001b[0m \u001b[32m━━━━━━━━━━━━━━━━━━━━\u001b[0m\u001b[37m\u001b[0m \u001b[1m185s\u001b[0m 2s/step - loss: 3.9104\n",
      "Epoch 6/7\n",
      "\u001b[1m116/116\u001b[0m \u001b[32m━━━━━━━━━━━━━━━━━━━━\u001b[0m\u001b[37m\u001b[0m \u001b[1m240s\u001b[0m 2s/step - loss: 3.6902\n",
      "Epoch 7/7\n",
      "\u001b[1m116/116\u001b[0m \u001b[32m━━━━━━━━━━━━━━━━━━━━\u001b[0m\u001b[37m\u001b[0m \u001b[1m244s\u001b[0m 2s/step - loss: 3.4439\n"
     ]
    }
   ],
   "source": [
    "# Entrenamiento del modelo\n",
    "history = model.fit(network_input, network_output, epochs=7, batch_size=64, verbose=1)\n"
   ]
  },
  {
   "cell_type": "markdown",
   "metadata": {},
   "source": [
    "## Rendimiento del modelo \n",
    "\n",
    "Métrica: Loss \n",
    "\n",
    "7 epochs - Model improvement: 38.75%\n"
   ]
  },
  {
   "cell_type": "code",
   "execution_count": 66,
   "metadata": {},
   "outputs": [
    {
     "name": "stdout",
     "output_type": "stream",
     "text": [
      "Evaluating final model performance...\n",
      "\u001b[1m232/232\u001b[0m \u001b[32m━━━━━━━━━━━━━━━━━━━━\u001b[0m\u001b[37m\u001b[0m \u001b[1m83s\u001b[0m 360ms/step - loss: 2.5874\n",
      "Final loss: 3.1603667736053467\n"
     ]
    }
   ],
   "source": [
    "print(\"Evaluating final model performance...\")\n",
    "final_loss = model.evaluate(network_input, network_output, verbose=1)\n",
    "print(f\"Final loss: {final_loss}\")"
   ]
  },
  {
   "cell_type": "code",
   "execution_count": 67,
   "metadata": {},
   "outputs": [
    {
     "name": "stdout",
     "output_type": "stream",
     "text": [
      "Model improvement: 38.75%\n"
     ]
    }
   ],
   "source": [
    "improvement = ((initial_loss - final_loss) / initial_loss) * 100\n",
    "print(f\"Model improvement: {improvement:.2f}%\")"
   ]
  },
  {
   "cell_type": "markdown",
   "metadata": {},
   "source": [
    "## Predicciones"
   ]
  },
  {
   "cell_type": "code",
   "execution_count": 79,
   "metadata": {},
   "outputs": [],
   "source": [
    "# Generar música\n",
    "def generate_notes(model, network_input, pitchnames, n_vocab):\n",
    "    start = np.random.randint(0, len(network_input)-1)\n",
    "    int_to_note = dict((number, note) for number, note in enumerate(pitchnames))\n",
    "    pattern = network_input[start]\n",
    "    prediction_output = []\n",
    "\n",
    "    for note_index in range(300):\n",
    "        prediction_input = np.reshape(pattern, (1, len(pattern), 1))\n",
    "        prediction_input = prediction_input / float(n_vocab)\n",
    "        prediction = model.predict(prediction_input, verbose=0)\n",
    "        index = np.argmax(prediction)\n",
    "        result = int_to_note[index]\n",
    "        prediction_output.append(result)\n",
    "        pattern = np.append(pattern, index)\n",
    "        pattern = pattern[1:len(pattern)]\n",
    "\n",
    "    return prediction_output\n"
   ]
  },
  {
   "cell_type": "code",
   "execution_count": 80,
   "metadata": {},
   "outputs": [],
   "source": [
    "# Nueva función para crear el archivo MIDI\n",
    "def create_midi(prediction_output):\n",
    "    offset = 0\n",
    "    output_notes = []\n",
    "\n",
    "    # Create the output directory if it doesn't exist\n",
    "    output_dir = './gen'\n",
    "    try:\n",
    "        os.makedirs(output_dir, exist_ok=True)\n",
    "        print(f\"Output directory created/verified at: {output_dir}\")\n",
    "    except Exception as e:\n",
    "        print(f\"Error creating directory: {e}\")\n",
    "        # If we can't create the directory, save in current directory\n",
    "        output_dir = '.'\n",
    "\n",
    "    # Crear objetos note y chord basados en los valores generados\n",
    "    for pattern in prediction_output:\n",
    "        # Si el patrón es un acorde\n",
    "        if ('.' in pattern) or pattern.isdigit():\n",
    "            notes_in_chord = pattern.split('.')\n",
    "            notes = []\n",
    "            for current_note in notes_in_chord:\n",
    "                new_note = note.Note(int(current_note))\n",
    "                new_note.storedInstrument = instrument.ElectricPiano()\n",
    "                notes.append(new_note)\n",
    "            new_chord = chord.Chord(notes)\n",
    "            new_chord.offset = offset\n",
    "            output_notes.append(new_chord)\n",
    "        # Si el patrón es una nota\n",
    "        else:\n",
    "            new_note = note.Note(pattern)\n",
    "            new_note.offset = offset\n",
    "            new_note.storedInstrument = instrument.ElectricPiano()\n",
    "            output_notes.append(new_note)\n",
    "\n",
    "        # Incrementar el offset para que las notas no se superpongan\n",
    "        offset += 0.5\n",
    "\n",
    "    # Crear un stream de música21\n",
    "    midi_stream = stream.Stream(output_notes)\n",
    "\n",
    "    # Escribir el stream en un archivo MIDI\n",
    "    midi_stream.write('midi', fp=f'{output_dir}\\\\generated_song_7epochs1.mid')\n",
    "\n",
    "    midi_stream.show('midi')\n",
    "\n",
    "    return midi_stream\n"
   ]
  },
  {
   "cell_type": "code",
   "execution_count": 81,
   "metadata": {},
   "outputs": [
    {
     "name": "stdout",
     "output_type": "stream",
     "text": [
      "Output directory created/verified at: ./gen\n"
     ]
    },
    {
     "data": {
      "text/html": [
       "\n",
       "        <div id=\"midiPlayerDiv1133678\"></div>\n",
       "        <link rel=\"stylesheet\" href=\"https://cuthbertLab.github.io/music21j/css/m21.css\">\n",
       "        \n",
       "        <script\n",
       "        src=\"https://cdnjs.cloudflare.com/ajax/libs/require.js/2.3.6/require.min.js\"\n",
       "        ></script>\n",
       "    \n",
       "        <script>\n",
       "        function midiPlayerDiv1133678_play() {\n",
       "            const rq = require.config({\n",
       "                paths: {\n",
       "                    'music21': 'https://cuthbertLab.github.io/music21j/releases/music21.debug',\n",
       "                }\n",
       "            });\n",
       "            rq(['music21'], function(music21) {\n",
       "                mp = new music21.miditools.MidiPlayer();\n",
       "                mp.addPlayer(\"#midiPlayerDiv1133678\");\n",
       "                mp.base64Load(\"data:audio/midi;base64,TVRoZAAAAAYAAQACJ2BNVHJrAAAAFAD/UQMHoSAA/1gEBAIYCM5g/y8ATVRyawAAJrsA/wMAAOAAQM5gkENaAJBGWgCQPFoAkD9apzCQQ1oAkEZaAJA8WgCQP1qnMIBDAACARgAAgDwAAIA/AACQQ1oAkEZaAJA8WgCQP1qnMIBDAACARgAAgDwAAIA/AACQQ1oAkEZaAJA8WgCQP1qnMIBDAACARgAAgDwAAIA/AACQPloAkEFaAJBDWgCQRlqnMIBDAACARgAAgDwAAIA/AACQPloAkEFaAJBDWgCQRlqnMIA+AACAQQAAgEMAAIBGAACQPloAkEFaAJBDWgCQRlqnMIA+AACAQQAAgEMAAIBGAACQPloAkEFaAJBDWgCQRlqnMIA+AACAQQAAgEMAAIBGAACQPloAkEFaAJBDWgCQRlqnMIA+AACAQQAAgEMAAIBGAACQPloAkEFaAJBDWgCQRlqnMIA+AACAQQAAgEMAAIBGAACQQ1oAkEZaAJA8WgCQP1qnMIA+AACAQQAAgEMAAIBGAACQQ1oAkEZaAJA8WgCQP1qnMIBDAACARgAAgDwAAIA/AACQQ1oAkEZaAJA8WgCQP1qnMIBDAACARgAAgDwAAIA/AACQQ1oAkEZaAJA8WgCQP1qnMIBDAACARgAAgDwAAIA/AACQQ1oAkEZaAJA8WgCQP1qnMIBDAACARgAAgDwAAIA/AACQQFoAkENaAJBFWgCQPFqnMIBDAACARgAAgDwAAIA/AACQQFoAkENaAJBFWgCQPFqnMIBAAACAQwAAgEUAAIA8AACQQFoAkENaAJBFWgCQPFqnMIBAAACAQwAAgEUAAIA8AACQQFoAkENaAJBFWgCQPFqnMIBAAACAQwAAgEUAAIA8AACQQFoAkENaAJBFWgCQPFqnMIBAAACAQwAAgEUAAIA8AACQQ1oAkEZaAJA8WgCQP1qnMIBAAACAQwAAgEUAAIA8AACQQ1oAkEZaAJA8WgCQP1qnMIBDAACARgAAgDwAAIA/AACQQ1oAkEZaAJA8WgCQP1qnMIBDAACARgAAgDwAAIA/AACQQ1oAkEZaAJA8WgCQP1qnMIBDAACARgAAgDwAAIA/AACQQ1oAkEZaAJA8WgCQP1qnMIBDAACARgAAgDwAAIA/AACQQ1oAkEZaAJA8WgCQP1qnMIBDAACARgAAgDwAAIA/AACQPloAkEFaAJBDWgCQRlqnMIBDAACARgAAgDwAAIA/AACQPloAkEFaAJBDWgCQRlqnMIA+AACAQQAAgEMAAIBGAACQPloAkEFaAJBDWgCQRlqnMIA+AACAQQAAgEMAAIBGAACQPloAkEFaAJBDWgCQRlqnMIA+AACAQQAAgEMAAIBGAACQPloAkEFaAJBDWgCQRlqnMIA+AACAQQAAgEMAAIBGAACQPloAkEFaAJBDWgCQRlqnMIA+AACAQQAAgEMAAIBGAACQQ1oAkEZaAJA8WgCQP1qnMIA+AACAQQAAgEMAAIBGAACQQ1oAkEZaAJA8WgCQP1qnMIBDAACARgAAgDwAAIA/AACQQ1oAkEZaAJA8WgCQP1qnMIBDAACARgAAgDwAAIA/AACQQ1oAkEZaAJA8WgCQP1qnMIBDAACARgAAgDwAAIA/AACQQFoAkENaAJBFWgCQPFqnMIBDAACARgAAgDwAAIA/AACQQFoAkENaAJBFWgCQPFqnMIBAAACAQwAAgEUAAIA8AACQQFoAkENaAJBFWgCQPFqnMIBAAACAQwAAgEUAAIA8AACQQFoAkENaAJBFWgCQPFqnMIBAAACAQwAAgEUAAIA8AACQQFoAkENaAJBFWgCQPFqnMIBAAACAQwAAgEUAAIA8AACQQ1oAkEZaAJA8WgCQP1qnMIBAAACAQwAAgEUAAIA8AACQQ1oAkEZaAJA8WgCQP1qnMIBDAACARgAAgDwAAIA/AACQQ1oAkEZaAJA8WgCQP1qnMIBDAACARgAAgDwAAIA/AACQQ1oAkEZaAJA8WgCQP1qnMIBDAACARgAAgDwAAIA/AACQQ1oAkEZaAJA8WgCQP1qnMIBDAACARgAAgDwAAIA/AACQQ1oAkEZaAJA8WgCQP1qnMIBDAACARgAAgDwAAIA/AACQPloAkEFaAJBDWgCQRlqnMIBDAACARgAAgDwAAIA/AACQPloAkEFaAJBDWgCQRlqnMIA+AACAQQAAgEMAAIBGAACQPloAkEFaAJBDWgCQRlqnMIA+AACAQQAAgEMAAIBGAACQPloAkEFaAJBDWgCQRlqnMIA+AACAQQAAgEMAAIBGAACQPloAkEFaAJBDWgCQRlqnMIA+AACAQQAAgEMAAIBGAACQPloAkEFaAJBDWgCQRlqnMIA+AACAQQAAgEMAAIBGAACQQ1oAkEZaAJA8WgCQP1qnMIA+AACAQQAAgEMAAIBGAACQQ1oAkEZaAJA8WgCQP1qnMIBDAACARgAAgDwAAIA/AACQQ1oAkEZaAJA8WgCQP1qnMIBDAACARgAAgDwAAIA/AACQQ1oAkEZaAJA8WgCQP1qnMIBDAACARgAAgDwAAIA/AACQQFoAkENaAJBFWgCQPFqnMIBDAACARgAAgDwAAIA/AACQQFoAkENaAJBFWgCQPFqnMIBAAACAQwAAgEUAAIA8AACQQFoAkENaAJBFWgCQPFqnMIBAAACAQwAAgEUAAIA8AACQQFoAkENaAJBFWgCQPFqnMIBAAACAQwAAgEUAAIA8AACQQFoAkENaAJBFWgCQPFqnMIBAAACAQwAAgEUAAIA8AACQQ1oAkEZaAJA8WgCQP1qnMIBAAACAQwAAgEUAAIA8AACQQ1oAkEZaAJA8WgCQP1qnMIBDAACARgAAgDwAAIA/AACQQ1oAkEZaAJA8WgCQP1qnMIBDAACARgAAgDwAAIA/AACQQ1oAkEZaAJA8WgCQP1qnMIBDAACARgAAgDwAAIA/AACQQ1oAkEZaAJA8WgCQP1qnMIBDAACARgAAgDwAAIA/AACQQ1oAkEZaAJA8WgCQP1qnMIBDAACARgAAgDwAAIA/AACQPloAkEFaAJBDWgCQRlqnMIBDAACARgAAgDwAAIA/AACQPloAkEFaAJBDWgCQRlqnMIA+AACAQQAAgEMAAIBGAACQPloAkEFaAJBDWgCQRlqnMIA+AACAQQAAgEMAAIBGAACQPloAkEFaAJBDWgCQRlqnMIA+AACAQQAAgEMAAIBGAACQPloAkEFaAJBDWgCQRlqnMIA+AACAQQAAgEMAAIBGAACQPloAkEFaAJBDWgCQRlqnMIA+AACAQQAAgEMAAIBGAACQQ1oAkEZaAJA8WgCQP1qnMIA+AACAQQAAgEMAAIBGAACQQ1oAkEZaAJA8WgCQP1qnMIBDAACARgAAgDwAAIA/AACQQ1oAkEZaAJA8WgCQP1qnMIBDAACARgAAgDwAAIA/AACQQ1oAkEZaAJA8WgCQP1qnMIBDAACARgAAgDwAAIA/AACQQFoAkENaAJBFWgCQPFqnMIBDAACARgAAgDwAAIA/AACQQFoAkENaAJBFWgCQPFqnMIBAAACAQwAAgEUAAIA8AACQQFoAkENaAJBFWgCQPFqnMIBAAACAQwAAgEUAAIA8AACQQFoAkENaAJBFWgCQPFqnMIBAAACAQwAAgEUAAIA8AACQQFoAkENaAJBFWgCQPFqnMIBAAACAQwAAgEUAAIA8AACQQ1oAkEZaAJA8WgCQP1qnMIBAAACAQwAAgEUAAIA8AACQQ1oAkEZaAJA8WgCQP1qnMIBDAACARgAAgDwAAIA/AACQQ1oAkEZaAJA8WgCQP1qnMIBDAACARgAAgDwAAIA/AACQQ1oAkEZaAJA8WgCQP1qnMIBDAACARgAAgDwAAIA/AACQQ1oAkEZaAJA8WgCQP1qnMIBDAACARgAAgDwAAIA/AACQQ1oAkEZaAJA8WgCQP1qnMIBDAACARgAAgDwAAIA/AACQPloAkEFaAJBDWgCQRlqnMIBDAACARgAAgDwAAIA/AACQPloAkEFaAJBDWgCQRlqnMIA+AACAQQAAgEMAAIBGAACQPloAkEFaAJBDWgCQRlqnMIA+AACAQQAAgEMAAIBGAACQPloAkEFaAJBDWgCQRlqnMIA+AACAQQAAgEMAAIBGAACQPloAkEFaAJBDWgCQRlqnMIA+AACAQQAAgEMAAIBGAACQPloAkEFaAJBDWgCQRlqnMIA+AACAQQAAgEMAAIBGAACQQ1oAkEZaAJA8WgCQP1qnMIA+AACAQQAAgEMAAIBGAACQQ1oAkEZaAJA8WgCQP1qnMIBDAACARgAAgDwAAIA/AACQQ1oAkEZaAJA8WgCQP1qnMIBDAACARgAAgDwAAIA/AACQQ1oAkEZaAJA8WgCQP1qnMIBDAACARgAAgDwAAIA/AACQQ1oAkEZaAJA8WgCQP1qnMIBDAACARgAAgDwAAIA/AACQQFoAkENaAJBFWgCQPFqnMIBDAACARgAAgDwAAIA/AACQQFoAkENaAJBFWgCQPFqnMIBAAACAQwAAgEUAAIA8AACQQFoAkENaAJBFWgCQPFqnMIBAAACAQwAAgEUAAIA8AACQQFoAkENaAJBFWgCQPFqnMIBAAACAQwAAgEUAAIA8AACQQFoAkENaAJBFWgCQPFqnMIBAAACAQwAAgEUAAIA8AACQQ1oAkEZaAJA8WgCQP1qnMIBAAACAQwAAgEUAAIA8AACQQ1oAkEZaAJA8WgCQP1qnMIBDAACARgAAgDwAAIA/AACQQ1oAkEZaAJA8WgCQP1qnMIBDAACARgAAgDwAAIA/AACQQ1oAkEZaAJA8WgCQP1qnMIBDAACARgAAgDwAAIA/AACQQ1oAkEZaAJA8WgCQP1qnMIBDAACARgAAgDwAAIA/AACQQ1oAkEZaAJA8WgCQP1qnMIBDAACARgAAgDwAAIA/AACQPloAkEFaAJBDWgCQRlqnMIBDAACARgAAgDwAAIA/AACQPloAkEFaAJBDWgCQRlqnMIA+AACAQQAAgEMAAIBGAACQPloAkEFaAJBDWgCQRlqnMIA+AACAQQAAgEMAAIBGAACQPloAkEFaAJBDWgCQRlqnMIA+AACAQQAAgEMAAIBGAACQPloAkEFaAJBDWgCQRlqnMIA+AACAQQAAgEMAAIBGAACQPloAkEFaAJBDWgCQRlqnMIA+AACAQQAAgEMAAIBGAACQQ1oAkEZaAJA8WgCQP1qnMIA+AACAQQAAgEMAAIBGAACQQ1oAkEZaAJA8WgCQP1qnMIBDAACARgAAgDwAAIA/AACQQ1oAkEZaAJA8WgCQP1qnMIBDAACARgAAgDwAAIA/AACQQ1oAkEZaAJA8WgCQP1qnMIBDAACARgAAgDwAAIA/AACQQ1oAkEZaAJA8WgCQP1qnMIBDAACARgAAgDwAAIA/AACQQFoAkENaAJBFWgCQPFqnMIBDAACARgAAgDwAAIA/AACQQFoAkENaAJBFWgCQPFqnMIBAAACAQwAAgEUAAIA8AACQQFoAkENaAJBFWgCQPFqnMIBAAACAQwAAgEUAAIA8AACQQFoAkENaAJBFWgCQPFqnMIBAAACAQwAAgEUAAIA8AACQQFoAkENaAJBFWgCQPFqnMIBAAACAQwAAgEUAAIA8AACQQ1oAkEZaAJA8WgCQP1qnMIBAAACAQwAAgEUAAIA8AACQQ1oAkEZaAJA8WgCQP1qnMIBDAACARgAAgDwAAIA/AACQQ1oAkEZaAJA8WgCQP1qnMIBDAACARgAAgDwAAIA/AACQQ1oAkEZaAJA8WgCQP1qnMIBDAACARgAAgDwAAIA/AACQQ1oAkEZaAJA8WgCQP1qnMIBDAACARgAAgDwAAIA/AACQQ1oAkEZaAJA8WgCQP1qnMIBDAACARgAAgDwAAIA/AACQPloAkEFaAJBDWgCQRlqnMIBDAACARgAAgDwAAIA/AACQPloAkEFaAJBDWgCQRlqnMIA+AACAQQAAgEMAAIBGAACQPloAkEFaAJBDWgCQRlqnMIA+AACAQQAAgEMAAIBGAACQPloAkEFaAJBDWgCQRlqnMIA+AACAQQAAgEMAAIBGAACQPloAkEFaAJBDWgCQRlqnMIA+AACAQQAAgEMAAIBGAACQPloAkEFaAJBDWgCQRlqnMIA+AACAQQAAgEMAAIBGAACQQ1oAkEZaAJA8WgCQP1qnMIA+AACAQQAAgEMAAIBGAACQQ1oAkEZaAJA8WgCQP1qnMIBDAACARgAAgDwAAIA/AACQQ1oAkEZaAJA8WgCQP1qnMIBDAACARgAAgDwAAIA/AACQQ1oAkEZaAJA8WgCQP1qnMIBDAACARgAAgDwAAIA/AACQQ1oAkEZaAJA8WgCQP1qnMIBDAACARgAAgDwAAIA/AACQQFoAkENaAJBFWgCQPFqnMIBDAACARgAAgDwAAIA/AACQQFoAkENaAJBFWgCQPFqnMIBAAACAQwAAgEUAAIA8AACQQFoAkENaAJBFWgCQPFqnMIBAAACAQwAAgEUAAIA8AACQQFoAkENaAJBFWgCQPFqnMIBAAACAQwAAgEUAAIA8AACQQFoAkENaAJBFWgCQPFqnMIBAAACAQwAAgEUAAIA8AACQQ1oAkEZaAJA8WgCQP1qnMIBAAACAQwAAgEUAAIA8AACQQ1oAkEZaAJA8WgCQP1qnMIBDAACARgAAgDwAAIA/AACQQ1oAkEZaAJA8WgCQP1qnMIBDAACARgAAgDwAAIA/AACQQ1oAkEZaAJA8WgCQP1qnMIBDAACARgAAgDwAAIA/AACQQ1oAkEZaAJA8WgCQP1qnMIBDAACARgAAgDwAAIA/AACQQ1oAkEZaAJA8WgCQP1qnMIBDAACARgAAgDwAAIA/AACQPloAkEFaAJBDWgCQRlqnMIBDAACARgAAgDwAAIA/AACQPloAkEFaAJBDWgCQRlqnMIA+AACAQQAAgEMAAIBGAACQPloAkEFaAJBDWgCQRlqnMIA+AACAQQAAgEMAAIBGAACQPloAkEFaAJBDWgCQRlqnMIA+AACAQQAAgEMAAIBGAACQPloAkEFaAJBDWgCQRlqnMIA+AACAQQAAgEMAAIBGAACQPloAkEFaAJBDWgCQRlqnMIA+AACAQQAAgEMAAIBGAACQQ1oAkEZaAJA8WgCQP1qnMIA+AACAQQAAgEMAAIBGAACQQ1oAkEZaAJA8WgCQP1qnMIBDAACARgAAgDwAAIA/AACQQ1oAkEZaAJA8WgCQP1qnMIBDAACARgAAgDwAAIA/AACQQ1oAkEZaAJA8WgCQP1qnMIBDAACARgAAgDwAAIA/AACQQ1oAkEZaAJA8WgCQP1qnMIBDAACARgAAgDwAAIA/AACQQFoAkENaAJBFWgCQPFqnMIBDAACARgAAgDwAAIA/AACQQFoAkENaAJBFWgCQPFqnMIBAAACAQwAAgEUAAIA8AACQQFoAkENaAJBFWgCQPFqnMIBAAACAQwAAgEUAAIA8AACQQFoAkENaAJBFWgCQPFqnMIBAAACAQwAAgEUAAIA8AACQQFoAkENaAJBFWgCQPFqnMIBAAACAQwAAgEUAAIA8AACQQ1oAkEZaAJA8WgCQP1qnMIBAAACAQwAAgEUAAIA8AACQQ1oAkEZaAJA8WgCQP1qnMIBDAACARgAAgDwAAIA/AACQQ1oAkEZaAJA8WgCQP1qnMIBDAACARgAAgDwAAIA/AACQQ1oAkEZaAJA8WgCQP1qnMIBDAACARgAAgDwAAIA/AACQQ1oAkEZaAJA8WgCQP1qnMIBDAACARgAAgDwAAIA/AACQQ1oAkEZaAJA8WgCQP1qnMIBDAACARgAAgDwAAIA/AACQPloAkEFaAJBDWgCQRlqnMIBDAACARgAAgDwAAIA/AACQPloAkEFaAJBDWgCQRlqnMIA+AACAQQAAgEMAAIBGAACQPloAkEFaAJBDWgCQRlqnMIA+AACAQQAAgEMAAIBGAACQPloAkEFaAJBDWgCQRlqnMIA+AACAQQAAgEMAAIBGAACQPloAkEFaAJBDWgCQRlqnMIA+AACAQQAAgEMAAIBGAACQPloAkEFaAJBDWgCQRlqnMIA+AACAQQAAgEMAAIBGAACQQ1oAkEZaAJA8WgCQP1qnMIA+AACAQQAAgEMAAIBGAACQQ1oAkEZaAJA8WgCQP1qnMIBDAACARgAAgDwAAIA/AACQQ1oAkEZaAJA8WgCQP1qnMIBDAACARgAAgDwAAIA/AACQQ1oAkEZaAJA8WgCQP1qnMIBDAACARgAAgDwAAIA/AACQQ1oAkEZaAJA8WgCQP1qnMIBDAACARgAAgDwAAIA/AACQQFoAkENaAJBFWgCQPFqnMIBDAACARgAAgDwAAIA/AACQQFoAkENaAJBFWgCQPFqnMIBAAACAQwAAgEUAAIA8AACQQFoAkENaAJBFWgCQPFqnMIBAAACAQwAAgEUAAIA8AACQQFoAkENaAJBFWgCQPFqnMIBAAACAQwAAgEUAAIA8AACQQFoAkENaAJBFWgCQPFqnMIBAAACAQwAAgEUAAIA8AACQQ1oAkEZaAJA8WgCQP1qnMIBAAACAQwAAgEUAAIA8AACQQ1oAkEZaAJA8WgCQP1qnMIBDAACARgAAgDwAAIA/AACQQ1oAkEZaAJA8WgCQP1qnMIBDAACARgAAgDwAAIA/AACQQ1oAkEZaAJA8WgCQP1qnMIBDAACARgAAgDwAAIA/AACQQ1oAkEZaAJA8WgCQP1qnMIBDAACARgAAgDwAAIA/AACQQ1oAkEZaAJA8WgCQP1qnMIBDAACARgAAgDwAAIA/AACQPloAkEFaAJBDWgCQRlqnMIBDAACARgAAgDwAAIA/AACQPloAkEFaAJBDWgCQRlqnMIA+AACAQQAAgEMAAIBGAACQPloAkEFaAJBDWgCQRlqnMIA+AACAQQAAgEMAAIBGAACQPloAkEFaAJBDWgCQRlqnMIA+AACAQQAAgEMAAIBGAACQPloAkEFaAJBDWgCQRlqnMIA+AACAQQAAgEMAAIBGAACQPloAkEFaAJBDWgCQRlqnMIA+AACAQQAAgEMAAIBGAACQQ1oAkEZaAJA8WgCQP1qnMIA+AACAQQAAgEMAAIBGAACQQ1oAkEZaAJA8WgCQP1qnMIBDAACARgAAgDwAAIA/AACQQ1oAkEZaAJA8WgCQP1qnMIBDAACARgAAgDwAAIA/AACQQ1oAkEZaAJA8WgCQP1qnMIBDAACARgAAgDwAAIA/AACQQ1oAkEZaAJA8WgCQP1qnMIBDAACARgAAgDwAAIA/AACQQFoAkENaAJBFWgCQPFqnMIBDAACARgAAgDwAAIA/AACQQFoAkENaAJBFWgCQPFqnMIBAAACAQwAAgEUAAIA8AACQQFoAkENaAJBFWgCQPFqnMIBAAACAQwAAgEUAAIA8AACQQFoAkENaAJBFWgCQPFqnMIBAAACAQwAAgEUAAIA8AACQQFoAkENaAJBFWgCQPFqnMIBAAACAQwAAgEUAAIA8AACQQ1oAkEZaAJA8WgCQP1qnMIBAAACAQwAAgEUAAIA8AACQQ1oAkEZaAJA8WgCQP1qnMIBDAACARgAAgDwAAIA/AACQQ1oAkEZaAJA8WgCQP1qnMIBDAACARgAAgDwAAIA/AACQQ1oAkEZaAJA8WgCQP1qnMIBDAACARgAAgDwAAIA/AACQQ1oAkEZaAJA8WgCQP1qnMIBDAACARgAAgDwAAIA/AACQQ1oAkEZaAJA8WgCQP1qnMIBDAACARgAAgDwAAIA/AACQPloAkEFaAJBDWgCQRlqnMIBDAACARgAAgDwAAIA/AACQPloAkEFaAJBDWgCQRlqnMIA+AACAQQAAgEMAAIBGAACQPloAkEFaAJBDWgCQRlqnMIA+AACAQQAAgEMAAIBGAACQPloAkEFaAJBDWgCQRlqnMIA+AACAQQAAgEMAAIBGAACQPloAkEFaAJBDWgCQRlqnMIA+AACAQQAAgEMAAIBGAACQPloAkEFaAJBDWgCQRlqnMIA+AACAQQAAgEMAAIBGAACQQ1oAkEZaAJA8WgCQP1qnMIA+AACAQQAAgEMAAIBGAACQQ1oAkEZaAJA8WgCQP1qnMIBDAACARgAAgDwAAIA/AACQQ1oAkEZaAJA8WgCQP1qnMIBDAACARgAAgDwAAIA/AACQQ1oAkEZaAJA8WgCQP1qnMIBDAACARgAAgDwAAIA/AACQQ1oAkEZaAJA8WgCQP1qnMIBDAACARgAAgDwAAIA/AACQQFoAkENaAJBFWgCQPFqnMIBDAACARgAAgDwAAIA/AACQQFoAkENaAJBFWgCQPFqnMIBAAACAQwAAgEUAAIA8AACQQFoAkENaAJBFWgCQPFqnMIBAAACAQwAAgEUAAIA8AACQQFoAkENaAJBFWgCQPFqnMIBAAACAQwAAgEUAAIA8AACQQFoAkENaAJBFWgCQPFqnMIBAAACAQwAAgEUAAIA8AACQQ1oAkEZaAJA8WgCQP1qnMIBAAACAQwAAgEUAAIA8AACQQ1oAkEZaAJA8WgCQP1qnMIBDAACARgAAgDwAAIA/AACQQ1oAkEZaAJA8WgCQP1qnMIBDAACARgAAgDwAAIA/AACQQ1oAkEZaAJA8WgCQP1qnMIBDAACARgAAgDwAAIA/AACQQ1oAkEZaAJA8WgCQP1qnMIBDAACARgAAgDwAAIA/AACQQ1oAkEZaAJA8WgCQP1qnMIBDAACARgAAgDwAAIA/AACQPloAkEFaAJBDWgCQRlqnMIBDAACARgAAgDwAAIA/AACQPloAkEFaAJBDWgCQRlqnMIA+AACAQQAAgEMAAIBGAACQPloAkEFaAJBDWgCQRlqnMIA+AACAQQAAgEMAAIBGAACQPloAkEFaAJBDWgCQRlqnMIA+AACAQQAAgEMAAIBGAACQPloAkEFaAJBDWgCQRlqnMIA+AACAQQAAgEMAAIBGAACQPloAkEFaAJBDWgCQRlqnMIA+AACAQQAAgEMAAIBGAACQQ1oAkEZaAJA8WgCQP1qnMIA+AACAQQAAgEMAAIBGAACQQ1oAkEZaAJA8WgCQP1qnMIBDAACARgAAgDwAAIA/AACQQ1oAkEZaAJA8WgCQP1qnMIBDAACARgAAgDwAAIA/AACQQ1oAkEZaAJA8WgCQP1qnMIBDAACARgAAgDwAAIA/AACQQ1oAkEZaAJA8WgCQP1qnMIBDAACARgAAgDwAAIA/AACQQFoAkENaAJBFWgCQPFqnMIBDAACARgAAgDwAAIA/AACQQFoAkENaAJBFWgCQPFqnMIBAAACAQwAAgEUAAIA8AACQQFoAkENaAJBFWgCQPFqnMIBAAACAQwAAgEUAAIA8AACQQFoAkENaAJBFWgCQPFqnMIBAAACAQwAAgEUAAIA8AACQQFoAkENaAJBFWgCQPFqnMIBAAACAQwAAgEUAAIA8AACQQ1oAkEZaAJA8WgCQP1qnMIBAAACAQwAAgEUAAIA8AACQQ1oAkEZaAJA8WgCQP1qnMIBDAACARgAAgDwAAIA/AACQQ1oAkEZaAJA8WgCQP1qnMIBDAACARgAAgDwAAIA/AACQQ1oAkEZaAJA8WgCQP1qnMIBDAACARgAAgDwAAIA/AACQQ1oAkEZaAJA8WgCQP1qnMIBDAACARgAAgDwAAIA/AACQQ1oAkEZaAJA8WgCQP1qnMIBDAACARgAAgDwAAIA/AACQPloAkEFaAJBDWgCQRlqnMIBDAACARgAAgDwAAIA/AACQPloAkEFaAJBDWgCQRlqnMIA+AACAQQAAgEMAAIBGAACQPloAkEFaAJBDWgCQRlqnMIA+AACAQQAAgEMAAIBGAACQPloAkEFaAJBDWgCQRlqnMIA+AACAQQAAgEMAAIBGAACQPloAkEFaAJBDWgCQRlqnMIA+AACAQQAAgEMAAIBGAACQPloAkEFaAJBDWgCQRlqnMIA+AACAQQAAgEMAAIBGAACQQ1oAkEZaAJA8WgCQP1qnMIA+AACAQQAAgEMAAIBGAACQQ1oAkEZaAJA8WgCQP1qnMIBDAACARgAAgDwAAIA/AACQQ1oAkEZaAJA8WgCQP1qnMIBDAACARgAAgDwAAIA/AACQQ1oAkEZaAJA8WgCQP1qnMIBDAACARgAAgDwAAIA/AACQQ1oAkEZaAJA8WgCQP1qnMIBDAACARgAAgDwAAIA/AACQQFoAkENaAJBFWgCQPFqnMIBDAACARgAAgDwAAIA/AACQQFoAkENaAJBFWgCQPFqnMIBAAACAQwAAgEUAAIA8AACQQFoAkENaAJBFWgCQPFqnMIBAAACAQwAAgEUAAIA8AACQQFoAkENaAJBFWgCQPFqnMIBAAACAQwAAgEUAAIA8AACQQFoAkENaAJBFWgCQPFqnMIBAAACAQwAAgEUAAIA8AACQQ1oAkEZaAJA8WgCQP1qnMIBAAACAQwAAgEUAAIA8AACQQ1oAkEZaAJA8WgCQP1qnMIBDAACARgAAgDwAAIA/AACQQ1oAkEZaAJA8WgCQP1qnMIBDAACARgAAgDwAAIA/AACQQ1oAkEZaAJA8WgCQP1qnMIBDAACARgAAgDwAAIA/AACQQ1oAkEZaAJA8WgCQP1qnMIBDAACARgAAgDwAAIA/AACQQ1oAkEZaAJA8WgCQP1qnMIBDAACARgAAgDwAAIA/AACQPloAkEFaAJBDWgCQRlqnMIBDAACARgAAgDwAAIA/AACQPloAkEFaAJBDWgCQRlqnMIA+AACAQQAAgEMAAIBGAACQPloAkEFaAJBDWgCQRlqnMIA+AACAQQAAgEMAAIBGAACQPloAkEFaAJBDWgCQRlqnMIA+AACAQQAAgEMAAIBGAACQPloAkEFaAJBDWgCQRlqnMIA+AACAQQAAgEMAAIBGAACQPloAkEFaAJBDWgCQRlqnMIA+AACAQQAAgEMAAIBGAACQQ1oAkEZaAJA8WgCQP1qnMIA+AACAQQAAgEMAAIBGAACQQ1oAkEZaAJA8WgCQP1qnMIBDAACARgAAgDwAAIA/AACQQ1oAkEZaAJA8WgCQP1qnMIBDAACARgAAgDwAAIA/AACQQ1oAkEZaAJA8WgCQP1qnMIBDAACARgAAgDwAAIA/AACQQ1oAkEZaAJA8WgCQP1qnMIBDAACARgAAgDwAAIA/AACQQFoAkENaAJBFWgCQPFqnMIBDAACARgAAgDwAAIA/AACQQFoAkENaAJBFWgCQPFqnMIBAAACAQwAAgEUAAIA8AKcwgEAAAIBDAACARQAAgDwAzmD/LwA=\");\n",
       "            });\n",
       "        }\n",
       "        if (typeof require === 'undefined') {\n",
       "            setTimeout(midiPlayerDiv1133678_play, 2000);\n",
       "        } else {\n",
       "            midiPlayerDiv1133678_play();\n",
       "        }\n",
       "        </script>"
      ],
      "text/plain": [
       "<IPython.core.display.HTML object>"
      ]
     },
     "metadata": {},
     "output_type": "display_data"
    },
    {
     "ename": "SubConverterException",
     "evalue": "Most issues with show() can be resolved by calling configure.run()",
     "output_type": "error",
     "traceback": [
      "\u001b[1;31m---------------------------------------------------------------------------\u001b[0m",
      "\u001b[1;31mFileNotFoundError\u001b[0m                         Traceback (most recent call last)",
      "File \u001b[1;32m~\\AppData\\Local\\Packages\\PythonSoftwareFoundation.Python.3.12_qbz5n2kfra8p0\\LocalCache\\local-packages\\Python312\\site-packages\\music21\\converter\\subConverters.py:205\u001b[0m, in \u001b[0;36mSubConverter.launch\u001b[1;34m(self, filePath, fmt, options, app, launchKey)\u001b[0m\n\u001b[0;32m    204\u001b[0m \u001b[38;5;28;01mtry\u001b[39;00m:\n\u001b[1;32m--> 205\u001b[0m     \u001b[43msubprocess\u001b[49m\u001b[38;5;241;43m.\u001b[39;49m\u001b[43mrun\u001b[49m\u001b[43m(\u001b[49m\u001b[43mcmd\u001b[49m\u001b[43m,\u001b[49m\u001b[43m \u001b[49m\u001b[43mcheck\u001b[49m\u001b[38;5;241;43m=\u001b[39;49m\u001b[38;5;28;43;01mFalse\u001b[39;49;00m\u001b[43m,\u001b[49m\u001b[43m \u001b[49m\u001b[43mshell\u001b[49m\u001b[38;5;241;43m=\u001b[39;49m\u001b[43mshell\u001b[49m\u001b[43m)\u001b[49m\n\u001b[0;32m    206\u001b[0m \u001b[38;5;28;01mexcept\u001b[39;00m \u001b[38;5;167;01mFileNotFoundError\u001b[39;00m \u001b[38;5;28;01mas\u001b[39;00m e:\n\u001b[0;32m    207\u001b[0m     \u001b[38;5;66;03m# musicXML path misconfigured\u001b[39;00m\n",
      "File \u001b[1;32mC:\\Program Files\\WindowsApps\\PythonSoftwareFoundation.Python.3.12_3.12.2032.0_x64__qbz5n2kfra8p0\\Lib\\subprocess.py:548\u001b[0m, in \u001b[0;36mrun\u001b[1;34m(input, capture_output, timeout, check, *popenargs, **kwargs)\u001b[0m\n\u001b[0;32m    546\u001b[0m     kwargs[\u001b[38;5;124m'\u001b[39m\u001b[38;5;124mstderr\u001b[39m\u001b[38;5;124m'\u001b[39m] \u001b[38;5;241m=\u001b[39m PIPE\n\u001b[1;32m--> 548\u001b[0m \u001b[38;5;28;01mwith\u001b[39;00m \u001b[43mPopen\u001b[49m\u001b[43m(\u001b[49m\u001b[38;5;241;43m*\u001b[39;49m\u001b[43mpopenargs\u001b[49m\u001b[43m,\u001b[49m\u001b[43m \u001b[49m\u001b[38;5;241;43m*\u001b[39;49m\u001b[38;5;241;43m*\u001b[39;49m\u001b[43mkwargs\u001b[49m\u001b[43m)\u001b[49m \u001b[38;5;28;01mas\u001b[39;00m process:\n\u001b[0;32m    549\u001b[0m     \u001b[38;5;28;01mtry\u001b[39;00m:\n",
      "File \u001b[1;32mC:\\Program Files\\WindowsApps\\PythonSoftwareFoundation.Python.3.12_3.12.2032.0_x64__qbz5n2kfra8p0\\Lib\\subprocess.py:1026\u001b[0m, in \u001b[0;36mPopen.__init__\u001b[1;34m(self, args, bufsize, executable, stdin, stdout, stderr, preexec_fn, close_fds, shell, cwd, env, universal_newlines, startupinfo, creationflags, restore_signals, start_new_session, pass_fds, user, group, extra_groups, encoding, errors, text, umask, pipesize, process_group)\u001b[0m\n\u001b[0;32m   1023\u001b[0m             \u001b[38;5;28mself\u001b[39m\u001b[38;5;241m.\u001b[39mstderr \u001b[38;5;241m=\u001b[39m io\u001b[38;5;241m.\u001b[39mTextIOWrapper(\u001b[38;5;28mself\u001b[39m\u001b[38;5;241m.\u001b[39mstderr,\n\u001b[0;32m   1024\u001b[0m                     encoding\u001b[38;5;241m=\u001b[39mencoding, errors\u001b[38;5;241m=\u001b[39merrors)\n\u001b[1;32m-> 1026\u001b[0m     \u001b[38;5;28;43mself\u001b[39;49m\u001b[38;5;241;43m.\u001b[39;49m\u001b[43m_execute_child\u001b[49m\u001b[43m(\u001b[49m\u001b[43margs\u001b[49m\u001b[43m,\u001b[49m\u001b[43m \u001b[49m\u001b[43mexecutable\u001b[49m\u001b[43m,\u001b[49m\u001b[43m \u001b[49m\u001b[43mpreexec_fn\u001b[49m\u001b[43m,\u001b[49m\u001b[43m \u001b[49m\u001b[43mclose_fds\u001b[49m\u001b[43m,\u001b[49m\n\u001b[0;32m   1027\u001b[0m \u001b[43m                        \u001b[49m\u001b[43mpass_fds\u001b[49m\u001b[43m,\u001b[49m\u001b[43m \u001b[49m\u001b[43mcwd\u001b[49m\u001b[43m,\u001b[49m\u001b[43m \u001b[49m\u001b[43menv\u001b[49m\u001b[43m,\u001b[49m\n\u001b[0;32m   1028\u001b[0m \u001b[43m                        \u001b[49m\u001b[43mstartupinfo\u001b[49m\u001b[43m,\u001b[49m\u001b[43m \u001b[49m\u001b[43mcreationflags\u001b[49m\u001b[43m,\u001b[49m\u001b[43m \u001b[49m\u001b[43mshell\u001b[49m\u001b[43m,\u001b[49m\n\u001b[0;32m   1029\u001b[0m \u001b[43m                        \u001b[49m\u001b[43mp2cread\u001b[49m\u001b[43m,\u001b[49m\u001b[43m \u001b[49m\u001b[43mp2cwrite\u001b[49m\u001b[43m,\u001b[49m\n\u001b[0;32m   1030\u001b[0m \u001b[43m                        \u001b[49m\u001b[43mc2pread\u001b[49m\u001b[43m,\u001b[49m\u001b[43m \u001b[49m\u001b[43mc2pwrite\u001b[49m\u001b[43m,\u001b[49m\n\u001b[0;32m   1031\u001b[0m \u001b[43m                        \u001b[49m\u001b[43merrread\u001b[49m\u001b[43m,\u001b[49m\u001b[43m \u001b[49m\u001b[43merrwrite\u001b[49m\u001b[43m,\u001b[49m\n\u001b[0;32m   1032\u001b[0m \u001b[43m                        \u001b[49m\u001b[43mrestore_signals\u001b[49m\u001b[43m,\u001b[49m\n\u001b[0;32m   1033\u001b[0m \u001b[43m                        \u001b[49m\u001b[43mgid\u001b[49m\u001b[43m,\u001b[49m\u001b[43m \u001b[49m\u001b[43mgids\u001b[49m\u001b[43m,\u001b[49m\u001b[43m \u001b[49m\u001b[43muid\u001b[49m\u001b[43m,\u001b[49m\u001b[43m \u001b[49m\u001b[43mumask\u001b[49m\u001b[43m,\u001b[49m\n\u001b[0;32m   1034\u001b[0m \u001b[43m                        \u001b[49m\u001b[43mstart_new_session\u001b[49m\u001b[43m,\u001b[49m\u001b[43m \u001b[49m\u001b[43mprocess_group\u001b[49m\u001b[43m)\u001b[49m\n\u001b[0;32m   1035\u001b[0m \u001b[38;5;28;01mexcept\u001b[39;00m:\n\u001b[0;32m   1036\u001b[0m     \u001b[38;5;66;03m# Cleanup if the child failed starting.\u001b[39;00m\n",
      "File \u001b[1;32mC:\\Program Files\\WindowsApps\\PythonSoftwareFoundation.Python.3.12_3.12.2032.0_x64__qbz5n2kfra8p0\\Lib\\subprocess.py:1538\u001b[0m, in \u001b[0;36mPopen._execute_child\u001b[1;34m(self, args, executable, preexec_fn, close_fds, pass_fds, cwd, env, startupinfo, creationflags, shell, p2cread, p2cwrite, c2pread, c2pwrite, errread, errwrite, unused_restore_signals, unused_gid, unused_gids, unused_uid, unused_umask, unused_start_new_session, unused_process_group)\u001b[0m\n\u001b[0;32m   1537\u001b[0m \u001b[38;5;28;01mtry\u001b[39;00m:\n\u001b[1;32m-> 1538\u001b[0m     hp, ht, pid, tid \u001b[38;5;241m=\u001b[39m \u001b[43m_winapi\u001b[49m\u001b[38;5;241;43m.\u001b[39;49m\u001b[43mCreateProcess\u001b[49m\u001b[43m(\u001b[49m\u001b[43mexecutable\u001b[49m\u001b[43m,\u001b[49m\u001b[43m \u001b[49m\u001b[43margs\u001b[49m\u001b[43m,\u001b[49m\n\u001b[0;32m   1539\u001b[0m \u001b[43m                             \u001b[49m\u001b[38;5;66;43;03m# no special security\u001b[39;49;00m\n\u001b[0;32m   1540\u001b[0m \u001b[43m                             \u001b[49m\u001b[38;5;28;43;01mNone\u001b[39;49;00m\u001b[43m,\u001b[49m\u001b[43m \u001b[49m\u001b[38;5;28;43;01mNone\u001b[39;49;00m\u001b[43m,\u001b[49m\n\u001b[0;32m   1541\u001b[0m \u001b[43m                             \u001b[49m\u001b[38;5;28;43mint\u001b[39;49m\u001b[43m(\u001b[49m\u001b[38;5;129;43;01mnot\u001b[39;49;00m\u001b[43m \u001b[49m\u001b[43mclose_fds\u001b[49m\u001b[43m)\u001b[49m\u001b[43m,\u001b[49m\n\u001b[0;32m   1542\u001b[0m \u001b[43m                             \u001b[49m\u001b[43mcreationflags\u001b[49m\u001b[43m,\u001b[49m\n\u001b[0;32m   1543\u001b[0m \u001b[43m                             \u001b[49m\u001b[43menv\u001b[49m\u001b[43m,\u001b[49m\n\u001b[0;32m   1544\u001b[0m \u001b[43m                             \u001b[49m\u001b[43mcwd\u001b[49m\u001b[43m,\u001b[49m\n\u001b[0;32m   1545\u001b[0m \u001b[43m                             \u001b[49m\u001b[43mstartupinfo\u001b[49m\u001b[43m)\u001b[49m\n\u001b[0;32m   1546\u001b[0m \u001b[38;5;28;01mfinally\u001b[39;00m:\n\u001b[0;32m   1547\u001b[0m     \u001b[38;5;66;03m# Child is launched. Close the parent's copy of those pipe\u001b[39;00m\n\u001b[0;32m   1548\u001b[0m     \u001b[38;5;66;03m# handles that only the child should have open.  You need\u001b[39;00m\n\u001b[1;32m   (...)\u001b[0m\n\u001b[0;32m   1551\u001b[0m     \u001b[38;5;66;03m# pipe will not close when the child process exits and the\u001b[39;00m\n\u001b[0;32m   1552\u001b[0m     \u001b[38;5;66;03m# ReadFile will hang.\u001b[39;00m\n",
      "\u001b[1;31mFileNotFoundError\u001b[0m: [WinError 2] El sistema no puede encontrar el archivo especificado",
      "\nThe above exception was the direct cause of the following exception:\n",
      "\u001b[1;31mSubConverterException\u001b[0m                     Traceback (most recent call last)",
      "Cell \u001b[1;32mIn[81], line 4\u001b[0m\n\u001b[0;32m      1\u001b[0m \u001b[38;5;66;03m# Código para generar y guardar nueva música\u001b[39;00m\n\u001b[0;32m      2\u001b[0m \u001b[38;5;66;03m# Asumimos que ya has entrenado el modelo y tienes los datos necesarios\u001b[39;00m\n\u001b[0;32m      3\u001b[0m prediction_output \u001b[38;5;241m=\u001b[39m generate_notes(model, network_input, \u001b[38;5;28mset\u001b[39m(notes), n_vocab)\n\u001b[1;32m----> 4\u001b[0m prediction_midi \u001b[38;5;241m=\u001b[39m \u001b[43mcreate_midi\u001b[49m\u001b[43m(\u001b[49m\u001b[43mprediction_output\u001b[49m\u001b[43m)\u001b[49m\n\u001b[0;32m      6\u001b[0m \u001b[38;5;28mprint\u001b[39m(\u001b[38;5;124m\"\u001b[39m\u001b[38;5;124mArchivo MIDI generado\u001b[39m\u001b[38;5;124m\"\u001b[39m)\n",
      "Cell \u001b[1;32mIn[80], line 47\u001b[0m, in \u001b[0;36mcreate_midi\u001b[1;34m(prediction_output)\u001b[0m\n\u001b[0;32m     43\u001b[0m midi_stream\u001b[38;5;241m.\u001b[39mwrite(\u001b[38;5;124m'\u001b[39m\u001b[38;5;124mmidi\u001b[39m\u001b[38;5;124m'\u001b[39m, fp\u001b[38;5;241m=\u001b[39m\u001b[38;5;124mf\u001b[39m\u001b[38;5;124m'\u001b[39m\u001b[38;5;132;01m{\u001b[39;00moutput_dir\u001b[38;5;132;01m}\u001b[39;00m\u001b[38;5;130;01m\\\\\u001b[39;00m\u001b[38;5;124mgenerated_song_7epochs1.mid\u001b[39m\u001b[38;5;124m'\u001b[39m)\n\u001b[0;32m     45\u001b[0m midi_stream\u001b[38;5;241m.\u001b[39mshow(\u001b[38;5;124m'\u001b[39m\u001b[38;5;124mmidi\u001b[39m\u001b[38;5;124m'\u001b[39m)\n\u001b[1;32m---> 47\u001b[0m \u001b[43mmidi_stream\u001b[49m\u001b[38;5;241;43m.\u001b[39;49m\u001b[43mshow\u001b[49m\u001b[43m(\u001b[49m\u001b[38;5;124;43m'\u001b[39;49m\u001b[38;5;124;43mmusicxml\u001b[39;49m\u001b[38;5;124;43m'\u001b[39;49m\u001b[43m)\u001b[49m\n\u001b[0;32m     50\u001b[0m \u001b[38;5;28;01mreturn\u001b[39;00m midi_stream\n",
      "File \u001b[1;32m~\\AppData\\Local\\Packages\\PythonSoftwareFoundation.Python.3.12_qbz5n2kfra8p0\\LocalCache\\local-packages\\Python312\\site-packages\\music21\\stream\\base.py:412\u001b[0m, in \u001b[0;36mStream.show\u001b[1;34m(self, fmt, app, **keywords)\u001b[0m\n\u001b[0;32m    410\u001b[0m \u001b[38;5;28;01mif\u001b[39;00m \u001b[38;5;28mself\u001b[39m\u001b[38;5;241m.\u001b[39misSorted \u001b[38;5;129;01mis\u001b[39;00m \u001b[38;5;28;01mFalse\u001b[39;00m \u001b[38;5;129;01mand\u001b[39;00m \u001b[38;5;28mself\u001b[39m\u001b[38;5;241m.\u001b[39mautoSort:\n\u001b[0;32m    411\u001b[0m     \u001b[38;5;28mself\u001b[39m\u001b[38;5;241m.\u001b[39msort()\n\u001b[1;32m--> 412\u001b[0m \u001b[38;5;28;01mreturn\u001b[39;00m \u001b[38;5;28;43msuper\u001b[39;49m\u001b[43m(\u001b[49m\u001b[43m)\u001b[49m\u001b[38;5;241;43m.\u001b[39;49m\u001b[43mshow\u001b[49m\u001b[43m(\u001b[49m\u001b[43mfmt\u001b[49m\u001b[38;5;241;43m=\u001b[39;49m\u001b[43mfmt\u001b[49m\u001b[43m,\u001b[49m\u001b[43m \u001b[49m\u001b[43mapp\u001b[49m\u001b[38;5;241;43m=\u001b[39;49m\u001b[43mapp\u001b[49m\u001b[43m,\u001b[49m\u001b[43m \u001b[49m\u001b[38;5;241;43m*\u001b[39;49m\u001b[38;5;241;43m*\u001b[39;49m\u001b[43mkeywords\u001b[49m\u001b[43m)\u001b[49m\n",
      "File \u001b[1;32m~\\AppData\\Local\\Packages\\PythonSoftwareFoundation.Python.3.12_qbz5n2kfra8p0\\LocalCache\\local-packages\\Python312\\site-packages\\music21\\base.py:2960\u001b[0m, in \u001b[0;36mMusic21Object.show\u001b[1;34m(self, fmt, app, **keywords)\u001b[0m\n\u001b[0;32m   2958\u001b[0m scClass \u001b[38;5;241m=\u001b[39m common\u001b[38;5;241m.\u001b[39mfindSubConverterForFormat(regularizedConverterFormat)\n\u001b[0;32m   2959\u001b[0m formatWriter \u001b[38;5;241m=\u001b[39m scClass()\n\u001b[1;32m-> 2960\u001b[0m \u001b[38;5;28;01mreturn\u001b[39;00m \u001b[43mformatWriter\u001b[49m\u001b[38;5;241;43m.\u001b[39;49m\u001b[43mshow\u001b[49m\u001b[43m(\u001b[49m\u001b[38;5;28;43mself\u001b[39;49m\u001b[43m,\u001b[49m\n\u001b[0;32m   2961\u001b[0m \u001b[43m                         \u001b[49m\u001b[43mregularizedConverterFormat\u001b[49m\u001b[43m,\u001b[49m\n\u001b[0;32m   2962\u001b[0m \u001b[43m                         \u001b[49m\u001b[43mapp\u001b[49m\u001b[38;5;241;43m=\u001b[39;49m\u001b[43mapp\u001b[49m\u001b[43m,\u001b[49m\n\u001b[0;32m   2963\u001b[0m \u001b[43m                         \u001b[49m\u001b[43msubformats\u001b[49m\u001b[38;5;241;43m=\u001b[39;49m\u001b[43msubformats\u001b[49m\u001b[43m,\u001b[49m\n\u001b[0;32m   2964\u001b[0m \u001b[43m                         \u001b[49m\u001b[38;5;241;43m*\u001b[39;49m\u001b[38;5;241;43m*\u001b[39;49m\u001b[43mkeywords\u001b[49m\u001b[43m)\u001b[49m\n",
      "File \u001b[1;32m~\\AppData\\Local\\Packages\\PythonSoftwareFoundation.Python.3.12_qbz5n2kfra8p0\\LocalCache\\local-packages\\Python312\\site-packages\\music21\\converter\\subConverters.py:1013\u001b[0m, in \u001b[0;36mConverterMusicXML.show\u001b[1;34m(self, obj, fmt, app, subformats, **keywords)\u001b[0m\n\u001b[0;32m   1011\u001b[0m \u001b[38;5;28;01melif\u001b[39;00m \u001b[38;5;124m'\u001b[39m\u001b[38;5;124mpdf\u001b[39m\u001b[38;5;124m'\u001b[39m \u001b[38;5;129;01min\u001b[39;00m subformats:\n\u001b[0;32m   1012\u001b[0m     fmt \u001b[38;5;241m=\u001b[39m \u001b[38;5;124m'\u001b[39m\u001b[38;5;124mpdf\u001b[39m\u001b[38;5;124m'\u001b[39m\n\u001b[1;32m-> 1013\u001b[0m \u001b[38;5;28;43mself\u001b[39;49m\u001b[38;5;241;43m.\u001b[39;49m\u001b[43mlaunch\u001b[49m\u001b[43m(\u001b[49m\u001b[43mreturnedFilePath\u001b[49m\u001b[43m,\u001b[49m\u001b[43m \u001b[49m\u001b[43mfmt\u001b[49m\u001b[38;5;241;43m=\u001b[39;49m\u001b[43mfmt\u001b[49m\u001b[43m,\u001b[49m\u001b[43m \u001b[49m\u001b[43mapp\u001b[49m\u001b[38;5;241;43m=\u001b[39;49m\u001b[43mapp\u001b[49m\u001b[43m)\u001b[49m\n",
      "File \u001b[1;32m~\\AppData\\Local\\Packages\\PythonSoftwareFoundation.Python.3.12_qbz5n2kfra8p0\\LocalCache\\local-packages\\Python312\\site-packages\\music21\\converter\\subConverters.py:208\u001b[0m, in \u001b[0;36mSubConverter.launch\u001b[1;34m(self, filePath, fmt, options, app, launchKey)\u001b[0m\n\u001b[0;32m    205\u001b[0m     subprocess\u001b[38;5;241m.\u001b[39mrun(cmd, check\u001b[38;5;241m=\u001b[39m\u001b[38;5;28;01mFalse\u001b[39;00m, shell\u001b[38;5;241m=\u001b[39mshell)\n\u001b[0;32m    206\u001b[0m \u001b[38;5;28;01mexcept\u001b[39;00m \u001b[38;5;167;01mFileNotFoundError\u001b[39;00m \u001b[38;5;28;01mas\u001b[39;00m e:\n\u001b[0;32m    207\u001b[0m     \u001b[38;5;66;03m# musicXML path misconfigured\u001b[39;00m\n\u001b[1;32m--> 208\u001b[0m     \u001b[38;5;28;01mraise\u001b[39;00m SubConverterException(\n\u001b[0;32m    209\u001b[0m         \u001b[38;5;124m'\u001b[39m\u001b[38;5;124mMost issues with show() can be resolved by calling configure.run()\u001b[39m\u001b[38;5;124m'\u001b[39m\n\u001b[0;32m    210\u001b[0m     ) \u001b[38;5;28;01mfrom\u001b[39;00m \u001b[38;5;21;01me\u001b[39;00m\n",
      "\u001b[1;31mSubConverterException\u001b[0m: Most issues with show() can be resolved by calling configure.run()"
     ]
    }
   ],
   "source": [
    "\n",
    "# Código para generar y guardar nueva música\n",
    "# Asumimos que ya has entrenado el modelo y tienes los datos necesarios\n",
    "prediction_output = generate_notes(model, network_input, set(notes), n_vocab)\n",
    "prediction_midi = create_midi(prediction_output)\n",
    "\n",
    "print(\"Archivo MIDI generado\")\n"
   ]
  },
  {
   "cell_type": "code",
   "execution_count": 77,
   "metadata": {},
   "outputs": [
    {
     "data": {
      "text/plain": [
       "NoneType"
      ]
     },
     "execution_count": 77,
     "metadata": {},
     "output_type": "execute_result"
    }
   ],
   "source": [
    "type(prediction_midi)"
   ]
  },
  {
   "cell_type": "markdown",
   "metadata": {},
   "source": [
    "## Guardar modelos"
   ]
  },
  {
   "cell_type": "code",
   "execution_count": 3,
   "metadata": {},
   "outputs": [],
   "source": [
    "# Save the final model\n",
    "model_save_dir = \"model\"\n",
    "final_model_path = os.path.join(model_save_dir, \"final_model.h5\")"
   ]
  },
  {
   "cell_type": "code",
   "execution_count": 17,
   "metadata": {},
   "outputs": [
    {
     "name": "stderr",
     "output_type": "stream",
     "text": [
      "WARNING:absl:You are saving your model as an HDF5 file via `model.save()` or `keras.saving.save_model(model)`. This file format is considered legacy. We recommend using instead the native Keras format, e.g. `model.save('my_model.keras')` or `keras.saving.save_model(model, 'my_model.keras')`. \n"
     ]
    },
    {
     "name": "stdout",
     "output_type": "stream",
     "text": [
      "Final model saved to model\\final_model.h5\n"
     ]
    }
   ],
   "source": [
    "model.save(final_model_path)\n",
    "print(f\"Final model saved to {final_model_path}\")"
   ]
  },
  {
   "cell_type": "markdown",
   "metadata": {},
   "source": [
    "## Cargar un modelo creado previamente"
   ]
  },
  {
   "cell_type": "code",
   "execution_count": 12,
   "metadata": {},
   "outputs": [],
   "source": [
    "def load_trained_model(model_path):\n",
    "    # Find the most recent model directory\n",
    "    \n",
    "    if not os.path.exists(model_path):\n",
    "        raise FileNotFoundError(f\"Model file not found at {model_path}\")\n",
    "    \n",
    "    # Load the model\n",
    "    model = load_model(model_path)\n",
    "    print(f\"Model loaded successfully from {model_path}\")\n",
    "    return model\n"
   ]
  },
  {
   "cell_type": "code",
   "execution_count": 14,
   "metadata": {},
   "outputs": [
    {
     "name": "stderr",
     "output_type": "stream",
     "text": [
      "WARNING:absl:Compiled the loaded model, but the compiled metrics have yet to be built. `model.compile_metrics` will be empty until you train or evaluate the model.\n"
     ]
    },
    {
     "name": "stdout",
     "output_type": "stream",
     "text": [
      "Model loaded successfully from model/final_model.h5\n"
     ]
    }
   ],
   "source": [
    "loaded_model = load_trained_model(\"model/final_model.h5\")\n"
   ]
  }
 ],
 "metadata": {
  "kernelspec": {
   "display_name": "Python 3",
   "language": "python",
   "name": "python3"
  },
  "language_info": {
   "codemirror_mode": {
    "name": "ipython",
    "version": 3
   },
   "file_extension": ".py",
   "mimetype": "text/x-python",
   "name": "python",
   "nbconvert_exporter": "python",
   "pygments_lexer": "ipython3",
   "version": "3.12.7"
  }
 },
 "nbformat": 4,
 "nbformat_minor": 2
}
